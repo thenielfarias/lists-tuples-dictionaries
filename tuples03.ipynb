{
 "cells": [
  {
   "cell_type": "code",
   "execution_count": 4,
   "id": "68e7bd49",
   "metadata": {},
   "outputs": [
    {
     "name": "stdout",
     "output_type": "stream",
     "text": [
      "5 números sorteados: (0, 8, 95, 39, 51)\n",
      "Menor número sorteado: 0\n",
      "Maior número sorteado: 95\n"
     ]
    }
   ],
   "source": [
    "from random import randint\n",
    "random1 = randint(0, 100)\n",
    "random2 = randint(0, 100)\n",
    "random3 = randint(0, 100)\n",
    "random4 = randint(0, 100)\n",
    "random5 = randint(0, 100)\n",
    "t5 = (random1, random2, random3, random4, random5)\n",
    "print(f'5 números sorteados: {t5}')\n",
    "print(f'Menor número sorteado: {min(t5)}')\n",
    "print(f'Maior número sorteado: {max(t5)}')"
   ]
  },
  {
   "cell_type": "code",
   "execution_count": null,
   "id": "846e0c22",
   "metadata": {},
   "outputs": [],
   "source": []
  }
 ],
 "metadata": {
  "kernelspec": {
   "display_name": "Python 3 (ipykernel)",
   "language": "python",
   "name": "python3"
  },
  "language_info": {
   "codemirror_mode": {
    "name": "ipython",
    "version": 3
   },
   "file_extension": ".py",
   "mimetype": "text/x-python",
   "name": "python",
   "nbconvert_exporter": "python",
   "pygments_lexer": "ipython3",
   "version": "3.9.5"
  }
 },
 "nbformat": 4,
 "nbformat_minor": 5
}
