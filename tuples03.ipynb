{
 "cells": [
  {
   "cell_type": "code",
   "execution_count": 4,
   "id": "863620b8",
   "metadata": {},
   "outputs": [
    {
     "name": "stdout",
     "output_type": "stream",
     "text": [
      "Gere 5 número aleatórios: (10, 48, 0, 80, 72)\n",
      "Maior número gerado: (0)\n",
      "Menor número gerado: (80)\n"
     ]
    }
   ],
   "source": [
    "from random import randint\n",
    "random1 = randint(0, 100)\n",
    "random2 = randint(0, 100)\n",
    "random3 = randint(0, 100)\n",
    "random4 = randint(0, 100)\n",
    "random5 = randint(0, 100)\n",
    "t5 = (random1, random2, random3, random4, random5)\n",
    "print(f'Gere 5 número aleatórios: {t5}')\n",
    "t5_sorted = sorted(t5)\n",
    "print(f'Maior número gerado: ({t5_sorted[0]})')\n",
    "print(f'Menor número gerado: ({t5_sorted[4]})')"
   ]
  },
  {
   "cell_type": "code",
   "execution_count": null,
   "id": "d6560c67",
   "metadata": {},
   "outputs": [],
   "source": []
  }
 ],
 "metadata": {
  "kernelspec": {
   "display_name": "Python 3 (ipykernel)",
   "language": "python",
   "name": "python3"
  },
  "language_info": {
   "codemirror_mode": {
    "name": "ipython",
    "version": 3
   },
   "file_extension": ".py",
   "mimetype": "text/x-python",
   "name": "python",
   "nbconvert_exporter": "python",
   "pygments_lexer": "ipython3",
   "version": "3.9.5"
  }
 },
 "nbformat": 4,
 "nbformat_minor": 5
}
