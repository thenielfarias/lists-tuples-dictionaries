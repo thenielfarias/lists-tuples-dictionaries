{
 "cells": [
  {
   "cell_type": "code",
   "execution_count": 2,
   "id": "11669468",
   "metadata": {},
   "outputs": [
    {
     "name": "stdout",
     "output_type": "stream",
     "text": [
      "=-=-=-=-=-=-=-=-=-=-=-=-=-=-=-=-=-=-=-=-=-=-=-=-=-=-=-=-=-=-=-=-=-=-=-=-=-=-=-=-=-=-=-=-=-=-=-=-=-=-=-=-=-=-=-=-=-\n",
      "Lista de times do Brasileirão: ('Bragantino', 'Athletico-PR', 'Palmeiras', 'Atlético-MG', 'Fortaleza', 'Bahia', 'Atlético-GO', 'Ceará', 'Fluminense', 'Flamengo', 'Santos', 'Juventude', 'Corinthians', 'Internacional', 'América-MG', 'Sport', 'São Paulo', 'Cuiabá', 'Chapecoense', 'Grêmio')\n",
      "=-=-=-=-=-=-=-=-=-=-=-=-=-=-=-=-=-=-=-=-=-=-=-=-=-=-=-=-=-=-=-=-=-=-=-=-=-=-=-=-=-=-=-=-=-=-=-=-=-=-=-=-=-=-=-=-=-\n",
      "Os cinco primeiros colocados são ('Bragantino', 'Athletico-PR', 'Palmeiras', 'Atlético-MG', 'Fortaleza')\n",
      "=-=-=-=-=-=-=-=-=-=-=-=-=-=-=-=-=-=-=-=-=-=-=-=-=-=-=-=-=-=-=-=-=-=-=-=-=-=-=-=-=-=-=-=-=-=-=-=-=-=-=-=-=-=-=-=-=-\n",
      "Os últimos quatro colocados são ('São Paulo', 'Cuiabá', 'Chapecoense', 'Grêmio')\n",
      "=-=-=-=-=-=-=-=-=-=-=-=-=-=-=-=-=-=-=-=-=-=-=-=-=-=-=-=-=-=-=-=-=-=-=-=-=-=-=-=-=-=-=-=-=-=-=-=-=-=-=-=-=-=-=-=-=-\n",
      "Times em ordem alfabética: ['América-MG', 'Athletico-PR', 'Atlético-GO', 'Atlético-MG', 'Bahia', 'Bragantino', 'Ceará', 'Chapecoense', 'Corinthians', 'Cuiabá', 'Flamengo', 'Fluminense', 'Fortaleza', 'Grêmio', 'Internacional', 'Juventude', 'Palmeiras', 'Santos', 'Sport', 'São Paulo']\n",
      "=-=-=-=-=-=-=-=-=-=-=-=-=-=-=-=-=-=-=-=-=-=-=-=-=-=-=-=-=-=-=-=-=-=-=-=-=-=-=-=-=-=-=-=-=-=-=-=-=-=-=-=-=-=-=-=-=-\n",
      "O Grêmio está na 20º posição\n"
     ]
    }
   ],
   "source": [
    "times_brasileirao = ('Bragantino', 'Athletico-PR', 'Palmeiras', 'Atlético-MG', 'Fortaleza', 'Bahia', 'Atlético-GO',\n",
    "                     'Ceará', 'Fluminense', 'Flamengo', 'Santos', 'Juventude', 'Corinthians', 'Internacional',\n",
    "                     'América-MG', 'Sport', 'São Paulo', 'Cuiabá', 'Chapecoense', 'Grêmio')\n",
    "\n",
    "print('=-'*57)\n",
    "print(f'Lista de times do Brasileirão: {times_brasileirao}')\n",
    "print('=-'*57)\n",
    "print(f'Os cinco primeiros colocados são {times_brasileirao[:5]}')\n",
    "print('=-'*57)\n",
    "print(f'Os últimos quatro colocados são {times_brasileirao[16:]}')\n",
    "print('=-'*57)\n",
    "times_ordenados = sorted(times_brasileirao)\n",
    "print(f'Times em ordem alfabética: {times_ordenados}')\n",
    "print('=-'*57)\n",
    "pos_gremio = times_brasileirao.index('Grêmio')\n",
    "pos_gremio += 1\n",
    "print(f'O Grêmio está na {pos_gremio}º posição')"
   ]
  },
  {
   "cell_type": "code",
   "execution_count": null,
   "id": "39ba61e3",
   "metadata": {},
   "outputs": [],
   "source": []
  }
 ],
 "metadata": {
  "kernelspec": {
   "display_name": "Python 3 (ipykernel)",
   "language": "python",
   "name": "python3"
  },
  "language_info": {
   "codemirror_mode": {
    "name": "ipython",
    "version": 3
   },
   "file_extension": ".py",
   "mimetype": "text/x-python",
   "name": "python",
   "nbconvert_exporter": "python",
   "pygments_lexer": "ipython3",
   "version": "3.9.5"
  }
 },
 "nbformat": 4,
 "nbformat_minor": 5
}
